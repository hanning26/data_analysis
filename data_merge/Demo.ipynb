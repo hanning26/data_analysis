{
 "cells": [
  {
   "cell_type": "code",
   "execution_count": 4,
   "metadata": {},
   "outputs": [],
   "source": [
    "import pandas as pd\n",
    "import numpy as np\n",
    "import csv\n",
    "import os\n",
    "from matplotlib.patches import Polygon\n",
    "import matplotlib.pyplot as plt\n",
    "import matplotlib as mpl\n",
    "from scipy import stats\n",
    "import scipy.stats as sci\n",
    "import seaborn as sns\n",
    "import warnings\n",
    "\n",
    "warnings.filterwarnings(\"ignore\")\n",
    "plt.rcParams[\"font.sans-serif\"]=[\"SimHei\"] #设置字体\n",
    "plt.rcParams[\"axes.unicode_minus\"]=False #该语句解决图像中的“-”负号的乱码问题\n",
    "\n",
    "csvFile = (r'\\\\172.17.1.212\\FCTRecords\\106-LED\\标普设备\\测试数据\\RT\\SLW2016AY1TR_ SL-FASP4343C_NA_S8D1_23LF0053002-02_RT1_1P09610_202306271228.CSV')\n",
    "temp = []\n",
    "with open(csvFile, 'r',encoding='gbk') as f_input:\n",
    "            for line in f_input:\n",
    "                temp.append(list(line.strip().split(',')))\n",
    "dataset = pd.DataFrame(temp,dtype=float)\n",
    "temp = []     #清空数据列表，防止数据累加和溢出\n",
    "dataset = dataset.iloc[54:,:].copy()#行筛选"
   ]
  },
  {
   "cell_type": "code",
   "execution_count": 2,
   "metadata": {},
   "outputs": [],
   "source": [
    "# 集佳测试数据合并\n",
    "from asyncio.windows_events import NULL\n",
    "import csv\n",
    "#from operator import inv\n",
    "import os\n",
    "import pandas as pd\n",
    "from pathlib import Path\n",
    "import datetime as dt\n",
    "import logging  # 生成日志\n",
    "import shutil  # 文件转移\n",
    "import numpy as np\n",
    "\n",
    "ft_csvFile = r'C://Users//hanning//Desktop//光电产品数据分析//Data_Processing_Software//data_merge//历史备份//FT//2023//2023_06//SLW2016AY1TR_ SL-FASP4343C_NA_S8D1_23LF0055002-01_FT1_1P09610_202306300959.CSV'\n",
    "rt_csvFile = r'C://Users//hanning//Desktop//光电产品数据分析//Data_Processing_Software//data_merge//历史备份//RT//2023//2023_07//SLW2016AY1TR_ SL-FASP4343C_NA_S8D1_23LF0055002-01_RT1_1P09610_202307100820.CSV'\n",
    "merge = pd.DataFrame()\n",
    "# 数据合并\n",
    "def data_merge(ft_csvFile, rt_csvFile, merge_data):\n",
    "    ft_temp = []   # 清空数据列表，防止数据累加和溢出\n",
    "    # 获取文件地址和名称(不带路径) \n",
    "    ft_loc1 = ft_csvFile.rfind('//')\n",
    "    ft_loc2 = ft_csvFile.rfind('.')\n",
    "    ft_name_file = ft_csvFile[ft_loc1 + 2:ft_loc2] \n",
    "    with open(ft_csvFile, 'r', encoding='gbk') as f_input:  \n",
    "        for line in f_input:\n",
    "            ft_temp.append(list(line.strip().split(',')))\n",
    "        ft_dataset = pd.DataFrame(ft_temp)\n",
    "        ft_dataset1 = ft_dataset.iloc[0:12, :].copy()  # 筛选前12行\n",
    "        ft_dataset2 = ft_dataset.iloc[12:, :].copy()  # 筛选12行之后的数据\n",
    "        ft_dataset2 = ft_dataset2.loc[ft_dataset2[5].str.contains('PASS', case=False)]\n",
    "        # ft_dataset.reset_index(inplace=True,drop=True)\n",
    "        # dataset = dataset.dropna(thresh=100, axis=1, inplace=False) #去除空值行sv(path).copy()\n",
    "    # 读取RT数据\n",
    "    rt_temp = []   # 清空数据列表，防止数据累加和溢出\n",
    "    # 获取文件地址和名称(不带路径) \n",
    "    rt_loc1 = rt_csvFile.rfind('//')\n",
    "    rt_loc2 = rt_csvFile.rfind('.')\n",
    "    rt_name_file = rt_csvFile[rt_loc1 + 2:rt_loc2]  \n",
    "    with open(rt_csvFile, 'r', encoding='gbk') as f_input:\n",
    "        for line in f_input:\n",
    "            rt_temp.append(list(line.strip().split(',')))\n",
    "        rt_dataset = pd.DataFrame(rt_temp)\n",
    "        rt_dataset1 = rt_dataset.iloc[0:12, :].copy()  # 筛选前12行\n",
    "        rt_dataset2 = rt_dataset.iloc[12:, :].copy()  # 筛选12行之后的数据\n",
    "    \n",
    "    # 将FT和RT数据通过connect合并\n",
    "    ft_dataset1 = pd.concat([ft_dataset1, ft_dataset2],axis=0,ignore_index=True)\n",
    "    ft_dataset1 = pd.concat([ft_dataset1, rt_dataset2],axis=0,ignore_index=True)\n",
    "    return ft_dataset1\n",
    "\n",
    "merge = data_merge(ft_csvFile, rt_csvFile, merge)"
   ]
  },
  {
   "cell_type": "code",
   "execution_count": null,
   "metadata": {},
   "outputs": [],
   "source": [
    "import sys, time\n",
    "\n",
    "# sys.stdout.write()方法跟print()方法的区别是 前者打印不换行，后者换行。\n",
    "# sys.stdout.flush()方法是立即刷新输出的内容  \n",
    "print(\"正在下载......\")\n",
    "for i in range(11):\n",
    "    if i != 10:\n",
    "        sys.stdout.write(\"==\")\n",
    "    else:\n",
    "        sys.stdout.write(\"== \" + str(i*10)+\"%/100%\")\n",
    "    sys.stdout.flush()\n",
    "    time.sleep(0.2)\n",
    "print(\"\\n\" + \"下载完成\")"
   ]
  },
  {
   "cell_type": "code",
   "execution_count": null,
   "metadata": {},
   "outputs": [],
   "source": [
    "import os\n",
    "import time\n",
    "import datetime as dt\n",
    "from dateutil.relativedelta import relativedelta\n",
    "paths = (r'C:\\Users\\hanning\\Desktop\\光电产品数据分析\\Data_Processing_Software\\data_merge\\历史备份\\FT').replace('\\\\', '//')\n",
    "\n",
    "# 获取现在的月份\n",
    "# 年\n",
    "year = dt.datetime.now().strftime('%Y')\n",
    "# 年-月\n",
    "month = dt.datetime.now().strftime('%Y_%m')\n",
    "path = paths + '//' + year + '//' + month + '//'\n",
    "print(path)\n",
    "def get_last_month(number=1):\n",
    "        # 获取前几个月\n",
    "        month_date = dt.datetime.now().date() - relativedelta(months=number)\n",
    "        return month_date.strftime(\"%Y_%m\")\n",
    "\n",
    "def detector(dir, sec):\n",
    "    origin = set([_f for _f in os.listdir(dir)])\n",
    "    time.sleep(sec)\n",
    "    \n",
    "    final = set([_f for _f in os.listdir(dir)])\n",
    "    return final.difference(origin)\n",
    "get_last_month(number=1)\n",
    "deterctor = detector(path, 10)\n",
    "print(deterctor)"
   ]
  },
  {
   "cell_type": "code",
   "execution_count": 3,
   "metadata": {},
   "outputs": [
    {
     "name": "stdout",
     "output_type": "stream",
     "text": [
      "exist\n"
     ]
    }
   ],
   "source": [
    "from pathlib import Path\n",
    "path = 'C:/Users/hanning/Desktop/测试/BP/历史备份/FT/2023/2023_06\\SLW2016AY1TR_ SL-FASP4343C_NA_S8D1_23LF0053002-02_FT1_1P09610_202306261744.CSV'\n",
    "if Path(path).exists():\n",
    "    print('exist')"
   ]
  }
 ],
 "metadata": {
  "kernelspec": {
   "display_name": "base",
   "language": "python",
   "name": "python3"
  },
  "language_info": {
   "codemirror_mode": {
    "name": "ipython",
    "version": 3
   },
   "file_extension": ".py",
   "mimetype": "text/x-python",
   "name": "python",
   "nbconvert_exporter": "python",
   "pygments_lexer": "ipython3",
   "version": "3.10.9"
  },
  "orig_nbformat": 4,
  "vscode": {
   "interpreter": {
    "hash": "b09ec625f77bf4fd762565a912b97636504ad6ec901eb2d0f4cf5a7de23e1ee5"
   }
  }
 },
 "nbformat": 4,
 "nbformat_minor": 2
}
